{
 "cells": [
  {
   "cell_type": "code",
   "execution_count": 2,
   "id": "c64db933",
   "metadata": {
    "ExecuteTime": {
     "end_time": "2023-09-11T16:09:58.399678Z",
     "start_time": "2023-09-11T16:09:58.291203Z"
    }
   },
   "outputs": [],
   "source": [
    "import pandas as pd\n",
    "import numpy as np\n",
    "\n",
    "from scipy.fft import fft\n",
    "from scipy.stats import skew, kurtosis\n",
    "import statistics as stc\n",
    "\n",
    "import matplotlib.pyplot as plt\n",
    "import seaborn as sns\n",
    "\n",
    "import pickle\n",
    "import configparser"
   ]
  },
  {
   "cell_type": "code",
   "execution_count": 3,
   "id": "b0163251",
   "metadata": {
    "ExecuteTime": {
     "end_time": "2023-09-11T16:31:19.944001Z",
     "start_time": "2023-09-11T16:31:19.875031Z"
    }
   },
   "outputs": [],
   "source": [
    "config = configparser.ConfigParser()\n",
    "config.read('config.ini')\n",
    "FRAME_SIZE = config.getint('Default', 'FRAME_SIZE')\n",
    "PATH_DATA_TO_PREDICT= config.get('Paths', 'PATH_DATA_TO_PREDICT')\n",
    "PATH_PROCESSED_DATA = config.get('Paths', 'PATH_PROCESSED_DATA')\n",
    "PATH_PROCESSED_SCHEMA = config.get('Paths', 'PATH_PROCESSED_SCHEMA')"
   ]
  },
  {
   "cell_type": "code",
   "execution_count": 4,
   "id": "57ed95cf",
   "metadata": {
    "ExecuteTime": {
     "end_time": "2023-09-11T16:10:05.304002Z",
     "start_time": "2023-09-11T16:10:05.147336Z"
    }
   },
   "outputs": [],
   "source": [
    "## data paths loading\n",
    "\n",
    "# Wear files\n",
    "acier_usure_120_100 = \"row_data/wear/26'_2022_01_11_171848_120%_100%_S_US.xlsx\"\n",
    "#acier_usure_75_75 = \"row_data/wear/27_2022_01_11_173748_75%_75%_S_US.xlsx\"\n",
    "#acier_usure_50_50 = \"row_data/wear/28_2022_01_11_180139_50%_50%_S_US.xlsx\"\n",
    "#acier_usure_50_100 = \"row_data/wear/36_2022_01_12_120232_50%_100%_S_US.xlsx\"\n",
    "#acier_usure_120_50 = \"row_data/wear/37_2022_01_12_123547_120%_50%_S_US.xlsx\"\n",
    "\n",
    "\n",
    "# No wear files\n",
    "acier_simp_120_100 = \"row_data/no_wear/01_2022_01_10_092455_120%_100%_S.xlsx\"\n",
    " \n",
    "#acier_simp_50_100 = \"row_data/no_wear/04_2022_01_10_101238_50%_100%_S.xlsx\"\n",
    "#acier_simp_75_75 = \"row_data/no_wear/07_2022_01_10_111456_75%_75%_S.xlsx\"\n",
    "#acier_simp_120_50 = \"row_data/no_wear/09_2022_01_10_115034_120%_50%_S.xlsx\"\n",
    "#acier_simp_50_50 = \"row_data/no_wear/12_2022_01_10_130747_50%_50%_S.xlsx\"\n",
    " \n"
   ]
  },
  {
   "cell_type": "code",
   "execution_count": 5,
   "id": "5b103179",
   "metadata": {
    "ExecuteTime": {
     "end_time": "2023-09-11T16:10:14.014834Z",
     "start_time": "2023-09-11T16:10:13.705615Z"
    }
   },
   "outputs": [],
   "source": [
    "def load_df(link):\n",
    "    data_frames = []\n",
    "    excel_file = pd.ExcelFile(link)\n",
    "    print(excel_file.sheet_names)\n",
    "    sheets = excel_file.sheet_names[:len(excel_file.sheet_names)-2]\n",
    "    print(f'Sheets : {sheets}')\n",
    "    for i in range(len(sheets)-1, -1, -1):\n",
    "        data = excel_file.parse(sheets[i])\n",
    "        data = data.drop(data.index[0])\n",
    "        data_frames.append(data)\n",
    "        merged_data = pd.concat(data_frames, ignore_index=True)\n",
    "        merged_data[\"Time\"] = merged_data[\"Time\"].astype(float)\n",
    "        merged_data[\"acc_broche\"] = merged_data[\"acc_broche\"].astype(float)\n",
    "        merged_data[\"acc_table\"] = merged_data[\"acc_table\"].astype(float)\n",
    "    return merged_data"
   ]
  },
  {
   "cell_type": "code",
   "execution_count": 14,
   "id": "c01d9d67",
   "metadata": {
    "ExecuteTime": {
     "end_time": "2023-09-11T16:19:25.809084Z",
     "start_time": "2023-09-11T16:10:17.953212Z"
    }
   },
   "outputs": [
    {
     "name": "stdout",
     "output_type": "stream",
     "text": [
      "['Data1-1', 'Data1', 'Events', 'DataInfo']\n",
      "Sheets : ['Data1-1', 'Data1']\n",
      "---\n",
      "['Data1-1', 'Data1', 'Events', 'DataInfo']\n",
      "Sheets : ['Data1-1', 'Data1']\n"
     ]
    }
   ],
   "source": [
    "# With wear data\n",
    "us_120_100 = load_df(acier_usure_120_100)\n",
    "#us_75_75 = load_df(acier_usure_75_75) #df d'expé sur de l'acier usé à 75%, 75% et avec lubrifiant\n",
    "#us_50_50 = load_df(acier_usure_50_50)\n",
    "#us_50_100 = load_df(acier_usure_50_100)\n",
    "#us_120_50 = load_df(acier_usure_120_50)\n",
    "\n",
    "print('---')\n",
    "# Without wear data\n",
    "nus_120_100 = load_df(acier_simp_120_100)\n",
    "#nus_50_100 = load_df(acier_simp_50_100)\n",
    "#nus_75_75 = load_df(acier_simp_75_75) #df d'expé sur de l'acier à 75%, 75% et avec lubrifiant\n",
    "#nus_120_50 = load_df(acier_simp_120_50)\n",
    "#nus_50_50 = load_df(acier_simp_50_50)"
   ]
  },
  {
   "cell_type": "code",
   "execution_count": 17,
   "id": "5f3bfe1e",
   "metadata": {},
   "outputs": [
    {
     "data": {
      "text/html": [
       "<div>\n",
       "<style scoped>\n",
       "    .dataframe tbody tr th:only-of-type {\n",
       "        vertical-align: middle;\n",
       "    }\n",
       "\n",
       "    .dataframe tbody tr th {\n",
       "        vertical-align: top;\n",
       "    }\n",
       "\n",
       "    .dataframe thead th {\n",
       "        text-align: right;\n",
       "    }\n",
       "</style>\n",
       "<table border=\"1\" class=\"dataframe\">\n",
       "  <thead>\n",
       "    <tr style=\"text-align: right;\">\n",
       "      <th></th>\n",
       "      <th>Time</th>\n",
       "      <th>acc_broche</th>\n",
       "      <th>acc_table</th>\n",
       "    </tr>\n",
       "  </thead>\n",
       "  <tbody>\n",
       "    <tr>\n",
       "      <th>867857</th>\n",
       "      <td>433.9285</td>\n",
       "      <td>-0.022193</td>\n",
       "      <td>0.002702</td>\n",
       "    </tr>\n",
       "    <tr>\n",
       "      <th>724839</th>\n",
       "      <td>362.4195</td>\n",
       "      <td>-0.001807</td>\n",
       "      <td>0.000302</td>\n",
       "    </tr>\n",
       "    <tr>\n",
       "      <th>931107</th>\n",
       "      <td>465.5535</td>\n",
       "      <td>-0.092016</td>\n",
       "      <td>-0.002882</td>\n",
       "    </tr>\n",
       "  </tbody>\n",
       "</table>\n",
       "</div>"
      ],
      "text/plain": [
       "            Time  acc_broche  acc_table\n",
       "867857  433.9285   -0.022193   0.002702\n",
       "724839  362.4195   -0.001807   0.000302\n",
       "931107  465.5535   -0.092016  -0.002882"
      ]
     },
     "execution_count": 17,
     "metadata": {},
     "output_type": "execute_result"
    }
   ],
   "source": [
    "nus_120_100.sample(3)"
   ]
  },
  {
   "cell_type": "code",
   "execution_count": 27,
   "id": "aa94a8c3",
   "metadata": {
    "ExecuteTime": {
     "end_time": "2023-09-11T16:19:26.168453Z",
     "start_time": "2023-09-11T16:19:25.620520Z"
    }
   },
   "outputs": [],
   "source": [
    "# Get last sequence as test set\n",
    "def getseq(data, lower_bound, upper_bound):\n",
    "    return data[(data['Time'] >= lower_bound) & (data['Time'] <= upper_bound)]\n",
    "#def nullvalues(df1, df2):\n",
    "    "
   ]
  },
  {
   "cell_type": "code",
   "execution_count": 30,
   "id": "a00e7a00",
   "metadata": {
    "ExecuteTime": {
     "end_time": "2023-09-11T16:19:26.254374Z",
     "start_time": "2023-09-11T16:19:26.158476Z"
    }
   },
   "outputs": [],
   "source": [
    "def plot_data(data):\n",
    "    fig, ax1 = plt.subplots(1, 1, figsize=(8, 6))\n",
    "    ax1.plot(data['Time'], data['acc_broche'], label='acc_broche')\n",
    "    ax1.plot(data['Time'], data['acc_table'], label='acc_table')\n",
    "    ax1.set_title('Train set')\n",
    "    ax1.legend()\n",
    "    plt.show()"
   ]
  },
  {
   "cell_type": "code",
   "execution_count": 9,
   "id": "9faa9848",
   "metadata": {
    "ExecuteTime": {
     "end_time": "2023-09-11T16:19:27.185179Z",
     "start_time": "2023-09-11T16:19:26.185128Z"
    }
   },
   "outputs": [],
   "source": [
    "#lower_bound = 000.0000\n",
    "#upper_bound = 990.0000\n",
    "#nus_50_50_set = getseq(nus_50_50, lower_bound, upper_bound)\n",
    "#plot_data(nus_50_50_set)"
   ]
  },
  {
   "cell_type": "code",
   "execution_count": 10,
   "id": "a0fe4ac1",
   "metadata": {
    "ExecuteTime": {
     "end_time": "2023-09-11T16:19:28.296827Z",
     "start_time": "2023-09-11T16:19:26.718172Z"
    }
   },
   "outputs": [],
   "source": [
    "#lower_bound = 000.0000\n",
    "#upper_bound = 990.0000\n",
    "#nus_120_50_set = getseq(nus_120_50, lower_bound, upper_bound)\n",
    "#plot_data(nus_120_50_set)"
   ]
  },
  {
   "cell_type": "code",
   "execution_count": 11,
   "id": "d9ec062c",
   "metadata": {
    "ExecuteTime": {
     "end_time": "2023-09-11T16:19:28.423142Z",
     "start_time": "2023-09-11T16:19:27.229426Z"
    }
   },
   "outputs": [],
   "source": [
    "#lower_bound = 000.0000\n",
    "#upper_bound = 480.0000\n",
    "#nus_75_75_set = getseq(nus_75_75, lower_bound, upper_bound)\n",
    "#plot_data(nus_75_75_set)"
   ]
  },
  {
   "cell_type": "code",
   "execution_count": 12,
   "id": "3ffbf127",
   "metadata": {
    "ExecuteTime": {
     "end_time": "2023-09-11T16:19:28.718957Z",
     "start_time": "2023-09-11T16:19:27.745299Z"
    }
   },
   "outputs": [],
   "source": [
    "#lower_bound = 000.0000\n",
    "#upper_bound = 980.0000\n",
    "#nus_50_100_set = getseq(nus_50_100, lower_bound, upper_bound)\n",
    "#plot_data(nus_50_100_set)"
   ]
  },
  {
   "cell_type": "code",
   "execution_count": 31,
   "id": "ed5031ea",
   "metadata": {
    "ExecuteTime": {
     "end_time": "2023-09-11T16:19:29.099947Z",
     "start_time": "2023-09-11T16:19:28.466220Z"
    }
   },
   "outputs": [
    {
     "name": "stdout",
     "output_type": "stream",
     "text": [
      "     Time  acc_broche  acc_table\n",
      "0  0.0000   -0.083861  -0.013599\n",
      "1  0.0005    0.009148  -0.012512\n",
      "2  0.0010    0.046630  -0.006063\n",
      "3  0.0015   -0.071559  -0.003705\n",
      "4  0.0020    0.057094  -0.008697\n"
     ]
    },
    {
     "data": {
      "image/png": "[encoded data removed]",
      "text/plain": [
       "<Figure size 576x432 with 1 Axes>"
      ]
     },
     "metadata": {
      "needs_background": "light"
     },
     "output_type": "display_data"
    }
   ],
   "source": [
    "lower_bound = 000.0000\n",
    "upper_bound = 425.0000\n",
    "nus_120_100_set = getseq(nus_120_100, lower_bound, upper_bound)\n",
    "print(nus_120_100_set.head()) \n",
    "plot_data(nus_120_100_set)"
   ]
  },
  {
   "cell_type": "code",
   "execution_count": 32,
   "id": "c46af0b2",
   "metadata": {
    "ExecuteTime": {
     "end_time": "2023-09-11T16:19:29.519414Z",
     "start_time": "2023-09-11T16:19:28.948141Z"
    }
   },
   "outputs": [],
   "source": [
    "#lower_bound = 000.0000\n",
    "#upper_bound = 430.0000\n",
    "#us_120_50_set = getseq(us_120_50, lower_bound, upper_bound)\n",
    "#plot_data(us_120_50_set)"
   ]
  },
  {
   "cell_type": "code",
   "execution_count": 33,
   "id": "57c6e563",
   "metadata": {
    "ExecuteTime": {
     "end_time": "2023-09-11T16:19:31.146504Z",
     "start_time": "2023-09-11T16:19:29.464261Z"
    }
   },
   "outputs": [],
   "source": [
    "#lower_bound = 000.0000\n",
    "#upper_bound = 1000.0000\n",
    "#us_50_100_set = getseq(us_50_100, lower_bound, upper_bound)\n",
    "#plot_data(us_50_100_set)"
   ]
  },
  {
   "cell_type": "code",
   "execution_count": 39,
   "id": "ffcbb619",
   "metadata": {
    "ExecuteTime": {
     "end_time": "2023-09-11T16:19:32.966831Z",
     "start_time": "2023-09-11T16:19:30.634116Z"
    }
   },
   "outputs": [],
   "source": [
    "#lower_bound = 000.0000\n",
    "#upper_bound = 980.0000\n",
    "#us_50_50_set = getseq(us_50_50, lower_bound, upper_bound)\n",
    "#plot_data(us_50_50_set)"
   ]
  },
  {
   "cell_type": "code",
   "execution_count": 34,
   "id": "2dc6a983",
   "metadata": {
    "ExecuteTime": {
     "end_time": "2023-09-11T16:19:33.230725Z",
     "start_time": "2023-09-11T16:19:31.720671Z"
    }
   },
   "outputs": [],
   "source": [
    "#lower_bound = 000.0000\n",
    "#upper_bound = 675.0000\n",
    "#us_75_75_set = getseq(us_75_75, lower_bound, upper_bound)\n",
    "#plot_data(us_75_75_set)"
   ]
  },
  {
   "cell_type": "code",
   "execution_count": 35,
   "id": "e3fd1659",
   "metadata": {
    "ExecuteTime": {
     "end_time": "2023-09-11T16:19:34.509308Z",
     "start_time": "2023-09-11T16:19:32.646926Z"
    }
   },
   "outputs": [
    {
     "data": {
      "image/png": "[encoded data removed]",
      "text/plain": [
       "<Figure size 576x432 with 1 Axes>"
      ]
     },
     "metadata": {
      "needs_background": "light"
     },
     "output_type": "display_data"
    }
   ],
   "source": [
    "##\n",
    "lower_bound = 000.0000\n",
    "upper_bound = 440.5000\n",
    "us_120_100_set = getseq(us_120_100, lower_bound, upper_bound)\n",
    "plot_data(us_120_100_set)"
   ]
  },
  {
   "cell_type": "code",
   "execution_count": 37,
   "id": "c73b79a5",
   "metadata": {
    "ExecuteTime": {
     "end_time": "2023-09-11T16:22:24.460120Z",
     "start_time": "2023-09-11T16:22:24.365137Z"
    }
   },
   "outputs": [],
   "source": [
    "from datastats.preprocessor import dataTransformer"
   ]
  },
  {
   "cell_type": "code",
   "execution_count": 42,
   "id": "78c50d63",
   "metadata": {
    "ExecuteTime": {
     "end_time": "2023-09-11T16:25:24.909839Z",
     "start_time": "2023-09-11T16:25:24.861281Z"
    }
   },
   "outputs": [],
   "source": [
    "def create_train_test(df):\n",
    "    X_train = df[0: int(len(df)*0.7)]\n",
    "    X_test = df[int(len(df)*0.3):]\n",
    "    return X_train, X_test"
   ]
  },
  {
   "cell_type": "code",
   "execution_count": 44,
   "id": "d89bdb97",
   "metadata": {
    "ExecuteTime": {
     "end_time": "2023-09-11T16:25:37.249113Z",
     "start_time": "2023-09-11T16:25:26.524651Z"
    }
   },
   "outputs": [],
   "source": [
    "## Dataset creation for signals with weared tool\n",
    "\n",
    "df_us_120_100 = dataTransformer(us_120_100_set[\"acc_broche\"], us_120_100_set[\"acc_table\"])\n",
    "df_us_120_100[\"wear\"] = 1\n",
    "us_120_100_train, us_120_100_test = create_train_test(df_us_120_100)\n",
    "\n",
    "\n",
    "#df_us_75_75 = dataTransformer(us_75_75_set[\"acc_broche\"], us_75_75_set[\"acc_table\"])\n",
    "#df_us_75_75[\"wear\"] = 1\n",
    "#us_75_75_train, us_75_75_test = create_train_test(df_us_75_75)\n",
    " \n",
    "#df_us_50_50 = dataTransformer(us_50_50_set[\"acc_broche\"], us_50_50_set[\"acc_table\"])\n",
    "#df_us_50_50[\"wear\"] = 1\n",
    "#us_50_50_train, us_50_50_test = create_train_test(df_us_50_50)\n",
    " \n",
    "#df_us_50_100 = dataTransformer(us_50_100_set[\"acc_broche\"], us_50_100_set[\"acc_table\"])\n",
    "#df_us_50_100[\"wear\"] = 1\n",
    "#us_50_100_train, us_50_100_test = create_train_test(df_us_50_100)\n",
    " \n",
    "#df_us_120_50 = dataTransformer(us_120_50_set[\"acc_broche\"], us_120_50_set[\"acc_table\"])\n",
    "#df_us_120_50[\"wear\"] = 1\n",
    "#us_120_50_train, us_120_50_test = create_train_test(df_us_120_50)"
   ]
  },
  {
   "cell_type": "code",
   "execution_count": 46,
   "id": "358ad899",
   "metadata": {
    "ExecuteTime": {
     "end_time": "2023-09-11T16:26:17.329995Z",
     "start_time": "2023-09-11T16:26:04.535342Z"
    }
   },
   "outputs": [],
   "source": [
    "## Dataset creation for signals with no weared tool\n",
    "\n",
    "df_nus_120_100 = dataTransformer(nus_120_100_set[\"acc_broche\"], nus_120_100_set[\"acc_table\"])\n",
    "df_nus_120_100[\"wear\"] = 0\n",
    "nus_120_100_train, nus_120_100_test = create_train_test(df_nus_120_100)\n",
    "\n",
    "#df_nus_50_100 = dataTransformer(nus_50_100_set[\"acc_broche\"], nus_50_100_set[\"acc_table\"])\n",
    "#df_nus_50_100[\"wear\"] = 0\n",
    "#nus_50_100_train, nus_50_100_test = create_train_test(df_nus_50_100)\n",
    "\n",
    "#df_nus_75_75 = dataTransformer(nus_75_75_set[\"acc_broche\"], nus_75_75_set[\"acc_table\"])\n",
    "#df_nus_75_75[\"wear\"] = 0\n",
    "#nus_75_75_train, nus_75_75_test = create_train_test(df_nus_75_75)\n",
    "\n",
    "#df_nus_120_50 = dataTransformer(nus_120_50_set[\"acc_broche\"], nus_120_50_set[\"acc_table\"])\n",
    "#df_nus_120_50[\"wear\"] = 0\n",
    "#nus_120_50_train, nus_120_50_test = create_train_test(df_nus_120_50)\n",
    "\n",
    "#df_nus_50_50 = dataTransformer(nus_50_50_set[\"acc_broche\"], nus_50_50_set[\"acc_table\"])\n",
    "#df_nus_50_50[\"wear\"] = 0\n",
    "#nus_50_50_train, nus_50_50_test = create_train_test(df_nus_50_50)"
   ]
  },
  {
   "cell_type": "code",
   "execution_count": 25,
   "id": "98c204d45430f77f",
   "metadata": {
    "ExecuteTime": {
     "end_time": "2023-09-11T16:26:45.997375Z",
     "start_time": "2023-09-11T16:26:45.872144Z"
    }
   },
   "outputs": [],
   "source": [
    "#data_to_predict = pd.concat([us_120_100_train.head(), nus_120_100_train.head(), us_75_75_train.head(), nus_50_100_train.head(), us_50_50_train.head(), nus_75_75_train.head(), us_50_100_train.head(), nus_120_50_train.head(), us_120_50_train.head(), nus_50_50_train.head()], axis=0, ignore_index=True)"
   ]
  },
  {
   "cell_type": "code",
   "execution_count": 47,
   "id": "28dd21be",
   "metadata": {},
   "outputs": [],
   "source": [
    "data_to_predict = pd.concat([us_120_100_train.head(), nus_120_100_train.head()], axis=0, ignore_index=True)"
   ]
  },
  {
   "cell_type": "code",
   "execution_count": 48,
   "id": "63e107b86231719c",
   "metadata": {
    "ExecuteTime": {
     "end_time": "2023-09-11T16:27:06.173539Z",
     "start_time": "2023-09-11T16:27:06.037441Z"
    }
   },
   "outputs": [
    {
     "data": {
      "text/html": [
       "<div>\n",
       "<style scoped>\n",
       "    .dataframe tbody tr th:only-of-type {\n",
       "        vertical-align: middle;\n",
       "    }\n",
       "\n",
       "    .dataframe tbody tr th {\n",
       "        vertical-align: top;\n",
       "    }\n",
       "\n",
       "    .dataframe thead th {\n",
       "        text-align: right;\n",
       "    }\n",
       "</style>\n",
       "<table border=\"1\" class=\"dataframe\">\n",
       "  <thead>\n",
       "    <tr style=\"text-align: right;\">\n",
       "      <th></th>\n",
       "      <th>Mean_b</th>\n",
       "      <th>STD_b</th>\n",
       "      <th>Variance_b</th>\n",
       "      <th>RMS_b</th>\n",
       "      <th>Peak_val_b</th>\n",
       "      <th>Skewness_b</th>\n",
       "      <th>Kurtosis_b</th>\n",
       "      <th>Crest_factor_b</th>\n",
       "      <th>Margin_factor_b</th>\n",
       "      <th>SHape_factor_b</th>\n",
       "      <th>...</th>\n",
       "      <th>Peak_val_t</th>\n",
       "      <th>Skewness_t</th>\n",
       "      <th>Kurtosis_t</th>\n",
       "      <th>Crest_factor_t</th>\n",
       "      <th>Margin_factor_t</th>\n",
       "      <th>SHape_factor_t</th>\n",
       "      <th>Impulse_factor_t</th>\n",
       "      <th>A_factor_t</th>\n",
       "      <th>B_factor_t</th>\n",
       "      <th>wear</th>\n",
       "    </tr>\n",
       "  </thead>\n",
       "  <tbody>\n",
       "    <tr>\n",
       "      <th>0</th>\n",
       "      <td>0.231680</td>\n",
       "      <td>0.060606</td>\n",
       "      <td>4.356046</td>\n",
       "      <td>0.060606</td>\n",
       "      <td>0.003673</td>\n",
       "      <td>0.053758</td>\n",
       "      <td>0.005995</td>\n",
       "      <td>0.275552</td>\n",
       "      <td>4.840777</td>\n",
       "      <td>5787.244362</td>\n",
       "      <td>...</td>\n",
       "      <td>0.003673</td>\n",
       "      <td>0.053758</td>\n",
       "      <td>0.005995</td>\n",
       "      <td>0.275552</td>\n",
       "      <td>4.840777</td>\n",
       "      <td>5787.244362</td>\n",
       "      <td>-0.000176</td>\n",
       "      <td>1040.748012</td>\n",
       "      <td>0.430833</td>\n",
       "      <td>1</td>\n",
       "    </tr>\n",
       "    <tr>\n",
       "      <th>1</th>\n",
       "      <td>0.245872</td>\n",
       "      <td>0.061711</td>\n",
       "      <td>-53.312761</td>\n",
       "      <td>0.061710</td>\n",
       "      <td>0.003808</td>\n",
       "      <td>-0.004700</td>\n",
       "      <td>0.019759</td>\n",
       "      <td>0.277932</td>\n",
       "      <td>5.082121</td>\n",
       "      <td>6132.576924</td>\n",
       "      <td>...</td>\n",
       "      <td>0.003808</td>\n",
       "      <td>-0.004700</td>\n",
       "      <td>0.019759</td>\n",
       "      <td>0.277932</td>\n",
       "      <td>5.082121</td>\n",
       "      <td>6132.576924</td>\n",
       "      <td>-0.000383</td>\n",
       "      <td>1046.288876</td>\n",
       "      <td>-17.069127</td>\n",
       "      <td>1</td>\n",
       "    </tr>\n",
       "    <tr>\n",
       "      <th>2</th>\n",
       "      <td>0.222157</td>\n",
       "      <td>0.056730</td>\n",
       "      <td>-5.047559</td>\n",
       "      <td>0.056730</td>\n",
       "      <td>0.003218</td>\n",
       "      <td>-0.044013</td>\n",
       "      <td>0.056726</td>\n",
       "      <td>0.267512</td>\n",
       "      <td>4.939971</td>\n",
       "      <td>5706.995471</td>\n",
       "      <td>...</td>\n",
       "      <td>0.003218</td>\n",
       "      <td>-0.044013</td>\n",
       "      <td>0.056726</td>\n",
       "      <td>0.267512</td>\n",
       "      <td>4.939971</td>\n",
       "      <td>5706.995471</td>\n",
       "      <td>0.000036</td>\n",
       "      <td>1216.823670</td>\n",
       "      <td>-5.046742</td>\n",
       "      <td>1</td>\n",
       "    </tr>\n",
       "    <tr>\n",
       "      <th>3</th>\n",
       "      <td>0.224365</td>\n",
       "      <td>0.058176</td>\n",
       "      <td>-3.609135</td>\n",
       "      <td>0.058174</td>\n",
       "      <td>0.003384</td>\n",
       "      <td>-0.066311</td>\n",
       "      <td>0.134776</td>\n",
       "      <td>0.270363</td>\n",
       "      <td>5.168873</td>\n",
       "      <td>6037.656468</td>\n",
       "      <td>...</td>\n",
       "      <td>0.003384</td>\n",
       "      <td>-0.066311</td>\n",
       "      <td>0.134776</td>\n",
       "      <td>0.270363</td>\n",
       "      <td>5.168873</td>\n",
       "      <td>6037.656468</td>\n",
       "      <td>0.000475</td>\n",
       "      <td>1139.649141</td>\n",
       "      <td>-8.360707</td>\n",
       "      <td>1</td>\n",
       "    </tr>\n",
       "    <tr>\n",
       "      <th>4</th>\n",
       "      <td>0.209168</td>\n",
       "      <td>0.059585</td>\n",
       "      <td>-5.068019</td>\n",
       "      <td>0.059582</td>\n",
       "      <td>0.003550</td>\n",
       "      <td>-0.048860</td>\n",
       "      <td>-0.073512</td>\n",
       "      <td>0.272744</td>\n",
       "      <td>5.188281</td>\n",
       "      <td>6151.753570</td>\n",
       "      <td>...</td>\n",
       "      <td>0.003550</td>\n",
       "      <td>-0.048860</td>\n",
       "      <td>-0.073512</td>\n",
       "      <td>0.272744</td>\n",
       "      <td>5.188281</td>\n",
       "      <td>6151.753570</td>\n",
       "      <td>-0.000653</td>\n",
       "      <td>988.913457</td>\n",
       "      <td>6.252307</td>\n",
       "      <td>1</td>\n",
       "    </tr>\n",
       "    <tr>\n",
       "      <th>5</th>\n",
       "      <td>0.193393</td>\n",
       "      <td>0.054172</td>\n",
       "      <td>-9.096728</td>\n",
       "      <td>0.054162</td>\n",
       "      <td>0.002934</td>\n",
       "      <td>-0.021927</td>\n",
       "      <td>-0.016339</td>\n",
       "      <td>0.260335</td>\n",
       "      <td>4.606593</td>\n",
       "      <td>5201.484268</td>\n",
       "      <td>...</td>\n",
       "      <td>0.002934</td>\n",
       "      <td>-0.021927</td>\n",
       "      <td>-0.016339</td>\n",
       "      <td>0.260335</td>\n",
       "      <td>4.606593</td>\n",
       "      <td>5201.484268</td>\n",
       "      <td>-0.001015</td>\n",
       "      <td>1217.169859</td>\n",
       "      <td>2.743981</td>\n",
       "      <td>0</td>\n",
       "    </tr>\n",
       "    <tr>\n",
       "      <th>6</th>\n",
       "      <td>0.343727</td>\n",
       "      <td>0.070574</td>\n",
       "      <td>-37.419632</td>\n",
       "      <td>0.070572</td>\n",
       "      <td>0.004980</td>\n",
       "      <td>-0.009233</td>\n",
       "      <td>0.599843</td>\n",
       "      <td>0.300973</td>\n",
       "      <td>6.283229</td>\n",
       "      <td>8052.222588</td>\n",
       "      <td>...</td>\n",
       "      <td>0.004980</td>\n",
       "      <td>-0.009233</td>\n",
       "      <td>0.599843</td>\n",
       "      <td>0.300973</td>\n",
       "      <td>6.283229</td>\n",
       "      <td>8052.222588</td>\n",
       "      <td>0.000566</td>\n",
       "      <td>977.952292</td>\n",
       "      <td>-318.025462</td>\n",
       "      <td>0</td>\n",
       "    </tr>\n",
       "    <tr>\n",
       "      <th>7</th>\n",
       "      <td>0.293032</td>\n",
       "      <td>0.079085</td>\n",
       "      <td>4.969035</td>\n",
       "      <td>0.079085</td>\n",
       "      <td>0.006254</td>\n",
       "      <td>0.061792</td>\n",
       "      <td>0.012451</td>\n",
       "      <td>0.314614</td>\n",
       "      <td>4.859276</td>\n",
       "      <td>6632.719832</td>\n",
       "      <td>...</td>\n",
       "      <td>0.006254</td>\n",
       "      <td>0.061792</td>\n",
       "      <td>0.012451</td>\n",
       "      <td>0.314614</td>\n",
       "      <td>4.859276</td>\n",
       "      <td>6632.719832</td>\n",
       "      <td>0.000067</td>\n",
       "      <td>592.416746</td>\n",
       "      <td>0.782247</td>\n",
       "      <td>0</td>\n",
       "    </tr>\n",
       "    <tr>\n",
       "      <th>8</th>\n",
       "      <td>0.278147</td>\n",
       "      <td>0.069052</td>\n",
       "      <td>9.309169</td>\n",
       "      <td>0.069052</td>\n",
       "      <td>0.004768</td>\n",
       "      <td>0.038151</td>\n",
       "      <td>0.163521</td>\n",
       "      <td>0.294303</td>\n",
       "      <td>6.451408</td>\n",
       "      <td>8218.334073</td>\n",
       "      <td>...</td>\n",
       "      <td>0.004768</td>\n",
       "      <td>0.038151</td>\n",
       "      <td>0.163521</td>\n",
       "      <td>0.294303</td>\n",
       "      <td>6.451408</td>\n",
       "      <td>8218.334073</td>\n",
       "      <td>-0.000084</td>\n",
       "      <td>844.792675</td>\n",
       "      <td>22.042820</td>\n",
       "      <td>0</td>\n",
       "    </tr>\n",
       "    <tr>\n",
       "      <th>9</th>\n",
       "      <td>0.395998</td>\n",
       "      <td>0.090493</td>\n",
       "      <td>6.616671</td>\n",
       "      <td>0.090493</td>\n",
       "      <td>0.008189</td>\n",
       "      <td>0.075940</td>\n",
       "      <td>2.196058</td>\n",
       "      <td>0.354107</td>\n",
       "      <td>7.693890</td>\n",
       "      <td>10958.321604</td>\n",
       "      <td>...</td>\n",
       "      <td>0.008189</td>\n",
       "      <td>0.075940</td>\n",
       "      <td>2.196058</td>\n",
       "      <td>0.354107</td>\n",
       "      <td>7.693890</td>\n",
       "      <td>10958.321604</td>\n",
       "      <td>-0.000127</td>\n",
       "      <td>534.372048</td>\n",
       "      <td>160.554965</td>\n",
       "      <td>0</td>\n",
       "    </tr>\n",
       "  </tbody>\n",
       "</table>\n",
       "<p>10 rows × 27 columns</p>\n",
       "</div>"
      ],
      "text/plain": [
       "     Mean_b     STD_b  Variance_b     RMS_b  Peak_val_b  Skewness_b  \\\n",
       "0  0.231680  0.060606    4.356046  0.060606    0.003673    0.053758   \n",
       "1  0.245872  0.061711  -53.312761  0.061710    0.003808   -0.004700   \n",
       "2  0.222157  0.056730   -5.047559  0.056730    0.003218   -0.044013   \n",
       "3  0.224365  0.058176   -3.609135  0.058174    0.003384   -0.066311   \n",
       "4  0.209168  0.059585   -5.068019  0.059582    0.003550   -0.048860   \n",
       "5  0.193393  0.054172   -9.096728  0.054162    0.002934   -0.021927   \n",
       "6  0.343727  0.070574  -37.419632  0.070572    0.004980   -0.009233   \n",
       "7  0.293032  0.079085    4.969035  0.079085    0.006254    0.061792   \n",
       "8  0.278147  0.069052    9.309169  0.069052    0.004768    0.038151   \n",
       "9  0.395998  0.090493    6.616671  0.090493    0.008189    0.075940   \n",
       "\n",
       "   Kurtosis_b  Crest_factor_b  Margin_factor_b  SHape_factor_b  ...  \\\n",
       "0    0.005995        0.275552         4.840777     5787.244362  ...   \n",
       "1    0.019759        0.277932         5.082121     6132.576924  ...   \n",
       "2    0.056726        0.267512         4.939971     5706.995471  ...   \n",
       "3    0.134776        0.270363         5.168873     6037.656468  ...   \n",
       "4   -0.073512        0.272744         5.188281     6151.753570  ...   \n",
       "5   -0.016339        0.260335         4.606593     5201.484268  ...   \n",
       "6    0.599843        0.300973         6.283229     8052.222588  ...   \n",
       "7    0.012451        0.314614         4.859276     6632.719832  ...   \n",
       "8    0.163521        0.294303         6.451408     8218.334073  ...   \n",
       "9    2.196058        0.354107         7.693890    10958.321604  ...   \n",
       "\n",
       "   Peak_val_t  Skewness_t  Kurtosis_t  Crest_factor_t  Margin_factor_t  \\\n",
       "0    0.003673    0.053758    0.005995        0.275552         4.840777   \n",
       "1    0.003808   -0.004700    0.019759        0.277932         5.082121   \n",
       "2    0.003218   -0.044013    0.056726        0.267512         4.939971   \n",
       "3    0.003384   -0.066311    0.134776        0.270363         5.168873   \n",
       "4    0.003550   -0.048860   -0.073512        0.272744         5.188281   \n",
       "5    0.002934   -0.021927   -0.016339        0.260335         4.606593   \n",
       "6    0.004980   -0.009233    0.599843        0.300973         6.283229   \n",
       "7    0.006254    0.061792    0.012451        0.314614         4.859276   \n",
       "8    0.004768    0.038151    0.163521        0.294303         6.451408   \n",
       "9    0.008189    0.075940    2.196058        0.354107         7.693890   \n",
       "\n",
       "   SHape_factor_t  Impulse_factor_t   A_factor_t  B_factor_t  wear  \n",
       "0     5787.244362         -0.000176  1040.748012    0.430833     1  \n",
       "1     6132.576924         -0.000383  1046.288876  -17.069127     1  \n",
       "2     5706.995471          0.000036  1216.823670   -5.046742     1  \n",
       "3     6037.656468          0.000475  1139.649141   -8.360707     1  \n",
       "4     6151.753570         -0.000653   988.913457    6.252307     1  \n",
       "5     5201.484268         -0.001015  1217.169859    2.743981     0  \n",
       "6     8052.222588          0.000566   977.952292 -318.025462     0  \n",
       "7     6632.719832          0.000067   592.416746    0.782247     0  \n",
       "8     8218.334073         -0.000084   844.792675   22.042820     0  \n",
       "9    10958.321604         -0.000127   534.372048  160.554965     0  \n",
       "\n",
       "[10 rows x 27 columns]"
      ]
     },
     "execution_count": 48,
     "metadata": {},
     "output_type": "execute_result"
    }
   ],
   "source": [
    "data_to_predict"
   ]
  },
  {
   "cell_type": "code",
   "execution_count": 49,
   "id": "9a9bec9e",
   "metadata": {
    "ExecuteTime": {
     "end_time": "2023-09-11T16:27:46.233337Z",
     "start_time": "2023-09-11T16:27:46.171433Z"
    }
   },
   "outputs": [],
   "source": [
    "data_train = pd.concat([us_120_100_train.drop(us_120_100_train.index[:5]), nus_120_100_train.drop(nus_120_100_train.index[:5])], axis=0, ignore_index=True)\n",
    "\n",
    "\n",
    "data_test = pd.concat([us_120_100_test, nus_120_100_test], axis=0, ignore_index=True)"
   ]
  },
  {
   "cell_type": "code",
   "execution_count": null,
   "id": "81dfb01b",
   "metadata": {},
   "outputs": [],
   "source": [
    "#data_train = pd.concat([us_120_100_train.drop(us_120_100_train.index[:5]), nus_120_100_train.drop(nus_120_100_train.index[:5]), us_75_75_train.drop(us_75_75_train.index[:5]), nus_50_100_train.drop(nus_50_100_train.index[:5]), us_50_50_train.drop(us_50_50_train.index[:5]), nus_75_75_train.drop(nus_75_75_train.index[:5]), us_50_100_train.drop(us_50_100_train.index[:5]), nus_120_50_train.drop(nus_120_50_train.index[:5]), us_120_50_train.drop(us_120_50_train.index[:5]), nus_50_50_train.drop(nus_50_100_train.index[:5])], axis=0, ignore_index=True)\n",
    "\n",
    "\n",
    "#data_test = pd.concat([us_120_100_test, nus_120_100_test, us_75_75_test, nus_50_100_test, us_50_50_test, nus_75_75_test, us_50_100_test, nus_120_50_test, us_120_50_test, nus_50_50_test], axis=0, ignore_index=True)"
   ]
  },
  {
   "cell_type": "code",
   "execution_count": 50,
   "id": "56ccd2e1",
   "metadata": {
    "ExecuteTime": {
     "end_time": "2023-09-11T16:28:10.953749Z",
     "start_time": "2023-09-11T16:28:10.899781Z"
    }
   },
   "outputs": [],
   "source": [
    "a = list(data_train.columns)\n",
    "target = a.pop()\n",
    "features_name = a"
   ]
  },
  {
   "cell_type": "code",
   "execution_count": 51,
   "id": "b836fe55",
   "metadata": {
    "ExecuteTime": {
     "end_time": "2023-09-11T16:28:56.178517Z",
     "start_time": "2023-09-11T16:28:56.147485Z"
    }
   },
   "outputs": [],
   "source": [
    "X_train = data_train[features_name]\n",
    "Y_train = data_train[target]\n",
    "\n",
    "X_test = data_test[features_name]\n",
    "Y_test = data_test[target]"
   ]
  },
  {
   "cell_type": "code",
   "execution_count": 52,
   "id": "641852877cee5f0",
   "metadata": {
    "ExecuteTime": {
     "end_time": "2023-09-11T16:34:08.753347Z",
     "start_time": "2023-09-11T16:34:08.574770Z"
    }
   },
   "outputs": [],
   "source": [
    "X_val = data_to_predict[features_name]\n",
    "Y_val = data_to_predict[target]"
   ]
  },
  {
   "cell_type": "code",
   "execution_count": null,
   "id": "14b1d2f8",
   "metadata": {},
   "outputs": [],
   "source": [
    "import os"
   ]
  },
  {
   "cell_type": "code",
   "execution_count": 58,
   "id": "50902f83",
   "metadata": {
    "ExecuteTime": {
     "end_time": "2023-09-11T16:29:00.183082Z",
     "start_time": "2023-09-11T16:29:00.113498Z"
    }
   },
   "outputs": [],
   "source": [
    "# Save the schema corresponding to the preprocessed data\n",
    "\n",
    "directory = os.path.dirname(PATH_PROCESSED_SCHEMA)\n",
    "\n",
    "if not os.path.exists(directory):\n",
    "    os.makedirs(directory)\n",
    "\n",
    "with open(PATH_PROCESSED_SCHEMA, 'wb') as file:\n",
    "    pickle.dump((features_name, target), file)"
   ]
  },
  {
   "cell_type": "code",
   "execution_count": 59,
   "id": "cc645502",
   "metadata": {
    "ExecuteTime": {
     "end_time": "2023-09-11T16:29:05.717641Z",
     "start_time": "2023-09-11T16:29:05.535286Z"
    }
   },
   "outputs": [],
   "source": [
    "# Save the preprocessed data\n",
    "with open(PATH_PROCESSED_DATA, 'wb') as file:\n",
    "    pickle.dump((X_train, X_test, Y_train, Y_test), file)"
   ]
  },
  {
   "cell_type": "code",
   "execution_count": 60,
   "id": "d6754ce1384cd66",
   "metadata": {
    "ExecuteTime": {
     "end_time": "2023-09-11T16:34:42.271887Z",
     "start_time": "2023-09-11T16:34:42.046538Z"
    }
   },
   "outputs": [],
   "source": [
    "# Save the data to predict\n",
    "with open(PATH_DATA_TO_PREDICT, 'wb') as file:\n",
    "    pickle.dump((X_val, Y_val), file)"
   ]
  },
  {
   "cell_type": "code",
   "execution_count": null,
   "id": "8d89f3bd065d470c",
   "metadata": {},
   "outputs": [],
   "source": []
  }
 ],
 "metadata": {
  "kernelspec": {
   "display_name": "Python 3 (ipykernel)",
   "language": "python",
   "name": "python3"
  },
  "language_info": {
   "codemirror_mode": {
    "name": "ipython",
    "version": 3
   },
   "file_extension": ".py",
   "mimetype": "text/x-python",
   "name": "python",
   "nbconvert_exporter": "python",
   "pygments_lexer": "ipython3",
   "version": "3.9.12"
  }
 },
 "nbformat": 4,
 "nbformat_minor": 5
}
