{
 "cells": [
  {
   "cell_type": "code",
   "execution_count": 12,
   "metadata": {},
   "outputs": [],
   "source": [
    "import mlflow\n",
    "import numpy as np\n",
    "from mlflow import MlflowClient\n",
    "import pandas as pd\n",
    "import configparser"
   ]
  },
  {
   "cell_type": "code",
   "execution_count": 25,
   "metadata": {},
   "outputs": [],
   "source": [
    "config = configparser.ConfigParser()\n",
    "config.read('config.ini') \n",
    "MLFLOW_TRACKING_URI= config.get('Default', 'MLFLOW_TRACKING_URI')"
   ]
  },
  {
   "cell_type": "code",
   "execution_count": 27,
   "metadata": {},
   "outputs": [],
   "source": [
    "#MLFLOW_TRACKING_URI = \"sqlite:///tardy_engine.db\"\n",
    "client = MlflowClient(tracking_uri=MLFLOW_TRACKING_URI)"
   ]
  },
  {
   "cell_type": "code",
   "execution_count": 28,
   "metadata": {},
   "outputs": [
    {
     "name": "stdout",
     "output_type": "stream",
     "text": [
      "Experiment ID: 1\n",
      "Name: Wear Detection\n",
      "Artifact Location: /workspaces/training_engine/mlruns/1\n",
      "-\n",
      "Experiment ID: 0\n",
      "Name: Default\n",
      "Artifact Location: /workspaces/training_engine/mlruns/0\n",
      "-\n"
     ]
    }
   ],
   "source": [
    "experiments = client.search_experiments()\n",
    "for experiment in experiments:\n",
    "    print(f\"Experiment ID: {experiment.experiment_id}\")\n",
    "    print(f\"Name: {experiment.name}\")\n",
    "    print(f\"Artifact Location: {experiment.artifact_location}\")\n",
    "    print(\"-\")"
   ]
  },
  {
   "cell_type": "code",
   "execution_count": 9,
   "metadata": {},
   "outputs": [
    {
     "name": "stdout",
     "output_type": "stream",
     "text": [
      "run id: a25d433cfa0c45b19c18fbc9d5c868ce, test_accuracy_score: 0.87\n",
      "run id: 2b41fe5bc789404fa4bacae8c44ee631, test_accuracy_score: 0.86\n",
      "run id: cbca843341c84bd29b9b241dc7747dd7, test_accuracy_score: 0.81\n",
      "run id: 508932b9e8b447ffade454a8a1e70397, test_accuracy_score: 0.80\n",
      "run id: 60769ab618ce4433a47fbf93f0f6a59b, test_accuracy_score: 0.70\n"
     ]
    }
   ],
   "source": [
    "from mlflow.entities import ViewType\n",
    "\n",
    "runs = client.search_runs(\n",
    "    experiment_ids='1',\n",
    "    filter_string=\"metrics.test_accuracy_score < 1\",\n",
    "    run_view_type=ViewType.ACTIVE_ONLY,\n",
    "    order_by=[\"metrics.test_accuracy_score DESC\"]\n",
    ")\n",
    "for run in runs:\n",
    "    print(f\"run id: {run.info.run_id}, test_accuracy_score: {run.data.metrics['test_accuracy_score']:.2f}\")"
   ]
  },
  {
   "cell_type": "code",
   "execution_count": 10,
   "metadata": {},
   "outputs": [
    {
     "name": "stdout",
     "output_type": "stream",
     "text": [
      "Nom du modèle: wear-detection_knn\n",
      "  Version: 1, Run ID: 2b41fe5bc789404fa4bacae8c44ee631\n",
      "Nom du modèle: wear-detection_lgr\n",
      "  Version: 1, Run ID: 508932b9e8b447ffade454a8a1e70397\n",
      "Nom du modèle: wear-detection_mlp\n",
      "  Version: 1, Run ID: 60769ab618ce4433a47fbf93f0f6a59b\n",
      "Nom du modèle: wear-detection_rdf\n",
      "  Version: 1, Run ID: a25d433cfa0c45b19c18fbc9d5c868ce\n",
      "Nom du modèle: wear-detection_xgb\n",
      "  Version: 1, Run ID: cbca843341c84bd29b9b241dc7747dd7\n"
     ]
    }
   ],
   "source": [
    "registered_models = client.search_registered_models()\n",
    "\n",
    "for model in registered_models:\n",
    "    print(f\"Nom du modèle: {model.name}\")\n",
    "    for version in model.latest_versions:\n",
    "        print(f\"  Version: {version.version}, Run ID: {version.run_id}\")"
   ]
  }
 ],
 "metadata": {
  "kernelspec": {
   "display_name": "Python 3 (ipykernel)",
   "language": "python",
   "name": "python3"
  },
  "language_info": {
   "codemirror_mode": {
    "name": "ipython",
    "version": 3
   },
   "file_extension": ".py",
   "mimetype": "text/x-python",
   "name": "python",
   "nbconvert_exporter": "python",
   "pygments_lexer": "ipython3",
   "version": "3.9.12"
  }
 },
 "nbformat": 4,
 "nbformat_minor": 2
}
